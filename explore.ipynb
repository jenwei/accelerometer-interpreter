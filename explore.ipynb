{
 "metadata": {
  "name": "",
 },
 "nbformat": 3,
 "nbformat_minor": 0,
 "worksheets": [
  {
   "cells": [
    {
     "cell_type": "code",
     "collapsed": false,
     "input": [
      "from __future__ import division\n",
      "\n",
      "%matplotlib inline\n",
      "import pandas as pd\n",
      "import thinkdsp\n",
      "import thinkplot\n",
      "\n",
      "1429584641157\n",
      "49105962326000"
     ],
     "language": "python",
     "metadata": {},
     "outputs": [],
     "prompt_number": 1
    },
    {
     "cell_type": "code",
     "collapsed": false,
     "input": [
      "df = pd.read_csv('data/WISDM_ar_v1.1_raw.txt')\n",
      "df.head()"
     ],
     "language": "python",
     "metadata": {},
     "outputs": [
      {
       "html": [
        "<div style=\"max-height:1000px;max-width:1500px;overflow:auto;\">\n",
        "<table border=\"1\" class=\"dataframe\">\n",
        "  <thead>\n",
        "    <tr style=\"text-align: right;\">\n",
        "      <th></th>\n",
        "      <th>personID</th>\n",
        "      <th>activity</th>\n",
        "      <th>time</th>\n",
        "      <th>x</th>\n",
        "      <th>y</th>\n",
        "      <th>z</th>\n",
        "    </tr>\n",
        "  </thead>\n",
        "  <tbody>\n",
        "    <tr>\n",
        "      <th>0</th>\n",
        "      <td> 33</td>\n",
        "      <td> Jogging</td>\n",
        "      <td> 49105962326000</td>\n",
        "      <td>-0.694638</td>\n",
        "      <td> 12.680544</td>\n",
        "      <td> 0.503953</td>\n",
        "    </tr>\n",
        "    <tr>\n",
        "      <th>1</th>\n",
        "      <td> 33</td>\n",
        "      <td> Jogging</td>\n",
        "      <td> 49106062271000</td>\n",
        "      <td> 5.012288</td>\n",
        "      <td> 11.264028</td>\n",
        "      <td> 0.953424</td>\n",
        "    </tr>\n",
        "    <tr>\n",
        "      <th>2</th>\n",
        "      <td> 33</td>\n",
        "      <td> Jogging</td>\n",
        "      <td> 49106112167000</td>\n",
        "      <td> 4.903325</td>\n",
        "      <td> 10.882658</td>\n",
        "      <td>-0.081722</td>\n",
        "    </tr>\n",
        "    <tr>\n",
        "      <th>3</th>\n",
        "      <td> 33</td>\n",
        "      <td> Jogging</td>\n",
        "      <td> 49106222305000</td>\n",
        "      <td>-0.612916</td>\n",
        "      <td> 18.496431</td>\n",
        "      <td> 3.023717</td>\n",
        "    </tr>\n",
        "    <tr>\n",
        "      <th>4</th>\n",
        "      <td> 33</td>\n",
        "      <td> Jogging</td>\n",
        "      <td> 49106332290000</td>\n",
        "      <td>-1.184970</td>\n",
        "      <td> 12.108489</td>\n",
        "      <td> 7.205164</td>\n",
        "    </tr>\n",
        "  </tbody>\n",
        "</table>\n",
        "</div>"
       ],
       "metadata": {},
       "output_type": "pyout",
       "prompt_number": 2,
       "text": [
        "   personID activity            time         x          y         z\n",
        "0        33  Jogging  49105962326000 -0.694638  12.680544  0.503953\n",
        "1        33  Jogging  49106062271000  5.012288  11.264028  0.953424\n",
        "2        33  Jogging  49106112167000  4.903325  10.882658 -0.081722\n",
        "3        33  Jogging  49106222305000 -0.612916  18.496431  3.023717\n",
        "4        33  Jogging  49106332290000 -1.184970  12.108489  7.205164"
       ]
      }
     ],
     "prompt_number": 2
    },
    {
     "cell_type": "code",
     "collapsed": false,
     "input": [
      "dbname = ''\n",
      "db = ''\n",
      "\n",
      "for i, (g, gdf) in enumerate(df.groupby('personID')):\n",
      "    # only work with the data for the personID 33\n",
      "    if g==33:\n",
      "        dbname, db = g, gdf\n",
      "        break"
     ],
     "language": "python",
     "metadata": {},
     "outputs": [],
     "prompt_number": 3
    },
    {
     "cell_type": "code",
     "collapsed": false,
     "input": [
      "print \"PERSON {}\".format(dbname)\n",
      "print db.head()"
     ],
     "language": "python",
     "metadata": {},
     "outputs": [
      {
       "output_type": "stream",
       "stream": "stdout",
       "text": [
        "PERSON 33\n",
        "   personID activity            time         x          y         z\n",
        "0        33  Jogging  49105962326000 -0.694638  12.680544  0.503953\n",
        "1        33  Jogging  49106062271000  5.012288  11.264028  0.953424\n",
        "2        33  Jogging  49106112167000  4.903325  10.882658 -0.081722\n",
        "3        33  Jogging  49106222305000 -0.612916  18.496431  3.023717\n",
        "4        33  Jogging  49106332290000 -1.184970  12.108489  7.205164\n"
       ]
      }
     ],
     "prompt_number": 4
    },
    {
     "cell_type": "code",
     "collapsed": false,
     "input": [
      "db.time"
     ],
     "language": "python",
     "metadata": {},
     "outputs": [
      {
       "metadata": {},
       "output_type": "pyout",
       "text": [
        "0     49105962326000\n",
        "1     49106062271000\n",
        "2     49106112167000\n",
        "3     49106222305000\n",
        "4     49106332290000\n",
        "5     49106442306000\n",
        "6     49106542312000\n",
        "7     49106652389000\n",
        "8     49106762313000\n",
        "9     49106872299000\n",
        "10    49106982315000\n",
        "11    49107092330000\n",
        "12    49107202316000\n",
        "13    49107312332000\n",
        "14    49107422348000\n",
        "...\n",
        "64590    11245732250000\n",
        "64591    11245782451000\n",
        "64592    11245832286000\n",
        "64593    11245882457000\n",
        "64594    11245932262000\n",
        "64595    11245982494000\n",
        "64596    11246032268000\n",
        "64597    11246082561000\n",
        "64598    11246132274000\n",
        "64599    11246182475000\n",
        "64600    11246232280000\n",
        "64601    11246282390000\n",
        "64602    11246332774000\n",
        "64603    11246382304000\n",
        "64604    11246442271000\n",
        "Name: time, Length: 23142, dtype: int64"
       ]
      }
     ],
    },
    {
     "cell_type": "code",
     "collapsed": false,
     "input": [
      "#calculate framerate = number of samples / time = \n",
      "n = 100\n",
      "db.time.diff()"
     ],
     "language": "python",
     "metadata": {},
     "outputs": [
      {
       "metadata": {},
       "output_type": "pyout",
       "text": [
        "0           NaN\n",
        "1      99945000\n",
        "2      49896000\n",
        "3     110138000\n",
        "4     109985000\n",
        "5     110016000\n",
        "6     100006000\n",
        "7     110077000\n",
        "8     109924000\n",
        "9     109986000\n",
        "10    110016000\n",
        "11    110015000\n",
        "12    109986000\n",
        "13    110016000\n",
        "14    110016000\n",
        "...\n",
        "64590    49805000\n",
        "64591    50201000\n",
        "64592    49835000\n",
        "64593    50171000\n",
        "64594    49805000\n",
        "64595    50232000\n",
        "64596    49774000\n",
        "64597    50293000\n",
        "64598    49713000\n",
        "64599    50201000\n",
        "64600    49805000\n",
        "64601    50110000\n",
        "64602    50384000\n",
        "64603    49530000\n",
        "64604    59967000\n",
        "Name: time, Length: 23142, dtype: float64"
       ]
      }
     ],
    },
    {
     "cell_type": "markdown",
     "metadata": {},
     "source": [
      "### Visualize Wave for a Segment"
     ]
    },
    {
     "cell_type": "code",
     "collapsed": false,
     "input": [
      "# Get ready to plot 2 subplots as a 4x2 grid, where a subplot is a set of activities\n",
      "thinkplot.preplot(4, 4, 4)\n",
      "\n",
      "# Visualize the 4 activities\n",
      "for plotnum, (g, gdb) in enumerate(db.groupby('activity')):\n",
      "    # Calculate Waves\n",
      "    # FIX: framerate is probably not calculated correctly\n",
      "    zwave = thinkdsp.Wave(gdb['z'].values, framerate=100000)\n",
      "    \n",
      "    start0 = 0.01\n",
      "    window_size = 0.0007\n",
      "    seg_nums = 4\n",
      "    \n",
      "    for i in range(seg_nums):\n",
      "        zseg = zwave.segment(start=start0+i*window_size, duration=window_size)\n",
      "        thinkplot.subplot(4*plotnum+1+i)\n",
      "        zseg.plot(label=g)\n",
      "        thinkplot.Config(title=g)"
     ],
     "language": "python",
     "metadata": {},
     "outputs": [
      {
       "metadata": {},
       "output_type": "display_data",
       "text": [
       ]
      }
     ],
     "prompt_number": 7
    },
    {
     "cell_type": "markdown",
     "metadata": {},
     "source": [
      "### Visualize Spectrums for a Segment"
     ]
    },
    {
     "cell_type": "code",
     "collapsed": true,
     "input": [
      "# Get ready to plot 2 subplots as a 4x2 grid\n",
      "thinkplot.preplot(4, 4, 4)\n",
      "\n",
      "# Visualize the 4 activities\n",
      "for plotnum, (g, gdb) in enumerate(db.groupby('activity')):\n",
      "    # Calculate Waves\n",
      "    # FIX: framerate is probably not calculated correctly\n",
      "    zwave = thinkdsp.Wave(gdb['z'].values, framerate=100000)\n",
      "    \n",
      "    start0 = 0.01\n",
      "    window_size = 0.0007\n",
      "    seg_nums = 4\n",
      "    \n",
      "    for i in range(seg_nums):\n",
      "        zseg = zwave.segment(start=start0+i*window_size, duration=window_size)\n",
      "        spectrum = zseg.make_spectrum()\n",
      "        thinkplot.subplot(4*plotnum+1+i)\n",
      "        spectrum.plot(label=g)\n",
      "        thinkplot.Config(title=g)"
     ],
     "language": "python",
     "metadata": {},
     "outputs": [
      {
       "metadata": {},
       "output_type": "display_data",
       "text": [
       ]
      }
     ],
    },
    {
     "cell_type": "markdown",
     "metadata": {},
     "source": [
      "Above are spectrums of the four activities at four consecutive windows. For going up and down the stairs, the spectrums across the four windows are relatively similar. However, walking and jogging have some discrepancies, possibly due to the fact that the time increments are not consistent."
     ]
    },
    {
     "cell_type": "markdown",
     "metadata": {},
     "source": [
      "### Plot Power for Segments"
     ]
    },
    {
     "cell_type": "code",
     "collapsed": false,
     "input": [
      "# Get ready to plot 2 subplots as a 4x2 grid\n",
      "thinkplot.preplot(4, 4, 4)\n",
      "\n",
      "# Visualize the 4 activities\n",
      "for plotnum, (g, gdb) in enumerate(db.groupby('activity')):\n",
      "    # Calculate Waves\n",
      "    # FIX: framerate is probably not calculated correctly\n",
      "    zwave = thinkdsp.Wave(gdb['z'].values, framerate=100000)\n",
      "    \n",
      "    start0 = 0.01\n",
      "    window_size = 0.0007\n",
      "    seg_nums = 4\n",
      "    \n",
      "    for i in range(seg_nums):\n",
      "        zseg = zwave.segment(start=start0+i*window_size, duration=window_size)\n",
      "        spectrum = zseg.make_spectrum()\n",
      "        thinkplot.subplot(4*plotnum+1+i)\n",
      "        spectrum.plot_power(label=g)\n",
      "        thinkplot.Config(title=g)"
     ],
     "language": "python",
     "metadata": {},
     "outputs": [
      {
       "metadata": {},
       "output_type": "display_data",
       "text": [
       ]
      }
     ],
    },
    {
     "cell_type": "markdown",
     "metadata": {},
     "source": [
      "### Plot Phases for Segments"
     ]
    },
    {
     "cell_type": "code",
     "collapsed": false,
     "input": [
      "# Get ready to plot 2 subplots as a 4x2 grid\n",
      "thinkplot.preplot(4, 4, 4)\n",
      "\n",
      "# Visualize the 4 activities\n",
      "for plotnum, (g, gdb) in enumerate(db.groupby('activity')):\n",
      "    # Calculate Waves\n",
      "    # FIX: framerate is probably not calculated correctly\n",
      "    zwave = thinkdsp.Wave(gdb['z'].values, framerate=100000)\n",
      "    \n",
      "    start0 = 0.01\n",
      "    window_size = 0.0007\n",
      "    seg_nums = 4\n",
      "    \n",
      "    for i in range(seg_nums):\n",
      "        zseg = zwave.segment(start=start0+i*window_size, duration=window_size)\n",
      "        spectrum = zseg.make_spectrum()\n",
      "        thinkplot.subplot(4*plotnum+1+i)\n",
      "        thinkplot.plot(spectrum.angles(), spectrum.amps)\n",
      "        thinkplot.Config(title=g)"
     ],
     "language": "python",
     "metadata": {},
     "outputs": [
      {
       "output_type": "stream",
       "stream": "stderr",
       "text": [
        "  warnings.warn(\"No labelled objects found. \"\n"
       ]
      },
      {
       "metadata": {},
       "output_type": "display_data",
       "text": [
       ]
      }
     ],
    },
    {
     "cell_type": "markdown",
     "metadata": {},
     "source": [
      "##TODOS:\n",
      "\n",
      "- phone accelerometer\n",
      "- timeseries spacing\n",
      "- feature visualization / extraction\n",
      "    - phase (WIP)\n",
      "    - frequency bins\n",
      "    - n most dominant frequencies\n",
      "- machine learning pipeline building\n",
      "    - Hidden Markov Model\n",
      "    \n",
      "##DONE:\n",
      "\n",
      "- feature visualization / extraction\n",
      "    - timeseries\n",
      "    - frequency spectrum\n",
      "    - power spectrum"
     ]
    },
    {
     "cell_type": "code",
     "collapsed": false,
     "input": [],
     "language": "python",
     "metadata": {},
    }
   ],
   "metadata": {}
  }
 ]
}