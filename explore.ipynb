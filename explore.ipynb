{
 "metadata": {
  "name": "",
  "signature": "sha256:8af49e00e758a242e0b4c75c4cd5662b34a8c894e376c651959c9212eba9e63a"
 },
 "nbformat": 3,
 "nbformat_minor": 0,
 "worksheets": [
  {
   "cells": [
    {
     "cell_type": "code",
     "collapsed": false,
     "input": [
      "import pandas as pd"
     ],
     "language": "python",
     "metadata": {},
     "outputs": [],
     "prompt_number": 1
    },
    {
     "cell_type": "code",
     "collapsed": false,
     "input": [
      "df = pd.read_csv('data/WISDM_ar_v1.1_raw.txt')\n",
      "df.head()"
     ],
     "language": "python",
     "metadata": {},
     "outputs": [
      {
       "html": [
        "<div style=\"max-height:1000px;max-width:1500px;overflow:auto;\">\n",
        "<table border=\"1\" class=\"dataframe\">\n",
        "  <thead>\n",
        "    <tr style=\"text-align: right;\">\n",
        "      <th></th>\n",
        "      <th>personID</th>\n",
        "      <th>activity</th>\n",
        "      <th>time</th>\n",
        "      <th>x</th>\n",
        "      <th>y</th>\n",
        "      <th>z</th>\n",
        "    </tr>\n",
        "  </thead>\n",
        "  <tbody>\n",
        "    <tr>\n",
        "      <th>0</th>\n",
        "      <td> 33</td>\n",
        "      <td> Jogging</td>\n",
        "      <td> 49105962326000</td>\n",
        "      <td>-0.694638</td>\n",
        "      <td> 12.680544</td>\n",
        "      <td> 0.503953</td>\n",
        "    </tr>\n",
        "    <tr>\n",
        "      <th>1</th>\n",
        "      <td> 33</td>\n",
        "      <td> Jogging</td>\n",
        "      <td> 49106062271000</td>\n",
        "      <td> 5.012288</td>\n",
        "      <td> 11.264028</td>\n",
        "      <td> 0.953424</td>\n",
        "    </tr>\n",
        "    <tr>\n",
        "      <th>2</th>\n",
        "      <td> 33</td>\n",
        "      <td> Jogging</td>\n",
        "      <td> 49106112167000</td>\n",
        "      <td> 4.903325</td>\n",
        "      <td> 10.882658</td>\n",
        "      <td>-0.081722</td>\n",
        "    </tr>\n",
        "    <tr>\n",
        "      <th>3</th>\n",
        "      <td> 33</td>\n",
        "      <td> Jogging</td>\n",
        "      <td> 49106222305000</td>\n",
        "      <td>-0.612916</td>\n",
        "      <td> 18.496431</td>\n",
        "      <td> 3.023717</td>\n",
        "    </tr>\n",
        "    <tr>\n",
        "      <th>4</th>\n",
        "      <td> 33</td>\n",
        "      <td> Jogging</td>\n",
        "      <td> 49106332290000</td>\n",
        "      <td>-1.184970</td>\n",
        "      <td> 12.108489</td>\n",
        "      <td> 7.205164</td>\n",
        "    </tr>\n",
        "  </tbody>\n",
        "</table>\n",
        "</div>"
       ],
       "metadata": {},
       "output_type": "pyout",
       "prompt_number": 16,
       "text": [
        "   personID activity            time         x          y         z\n",
        "0        33  Jogging  49105962326000 -0.694638  12.680544  0.503953\n",
        "1        33  Jogging  49106062271000  5.012288  11.264028  0.953424\n",
        "2        33  Jogging  49106112167000  4.903325  10.882658 -0.081722\n",
        "3        33  Jogging  49106222305000 -0.612916  18.496431  3.023717\n",
        "4        33  Jogging  49106332290000 -1.184970  12.108489  7.205164"
       ]
      }
     ],
     "prompt_number": 16
    },
    {
     "cell_type": "code",
     "collapsed": false,
     "input": [
      "colnames = ['personID', 'activity']\n",
      "for col in colnames:\n",
      "    print \"\\n\"\n",
      "    print col\n",
      "    for g, gdf in df.groupby(col):\n",
      "        print g"
     ],
     "language": "python",
     "metadata": {},
     "outputs": [
      {
       "output_type": "stream",
       "stream": "stdout",
       "text": [
        "\n",
        "\n",
        "personID\n",
        "17\n",
        "20\n",
        "33\n",
        "\n",
        "\n",
        "activity\n",
        "Downstairs"
       ]
      },
      {
       "output_type": "stream",
       "stream": "stdout",
       "text": [
        "\n",
        "Jogging\n",
        "Upstairs\n",
        "Walking\n"
       ]
      }
     ],
     "prompt_number": 18
    },
    {
     "cell_type": "code",
     "collapsed": false,
     "input": [],
     "language": "python",
     "metadata": {},
     "outputs": []
    }
   ],
   "metadata": {}
  }
 ]
}