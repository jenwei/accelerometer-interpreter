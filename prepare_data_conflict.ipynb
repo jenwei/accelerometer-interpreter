{
 "cells": [
  {
   "cell_type": "markdown",
   "metadata": {},
   "source": [
    "#Preparing data for input into the hmm[\"activity\"] models"
   ]
  },
  {
   "cell_type": "code",
   "execution_count": 2,
   "metadata": {
    "collapsed": false
   },
   "outputs": [],
   "source": [
    "from __future__ import division\n",
    "\n",
    "%matplotlib inline\n",
    "import pandas as pd\n",
    "import thinkdsp\n",
    "import thinkplot\n",
    "import numpy as np\n",
    "\n",
    "from magnitude import magnitude\n",
    "from pipeline import preprocess, extract_features"
   ]
  },
  {
   "cell_type": "code",
   "execution_count": 3,
   "metadata": {
    "collapsed": false
   },
   "outputs": [],
   "source": [
    "#Ryan's fancy way of inputting data in an easier way\n",
    "data_dict = {'walking':{},'jogging':{},'upstairs':{},'downstairs':{}}\n",
    "names = ['meg','ryan','dennis']\n",
    "acts = ['walking', 'jogging', 'upstairs', 'downstairs']\n",
    "for name in names:\n",
    "    data_file_names = ['data/{}_{}_long.csv'.format(name, activity) for activity in acts]\n",
    "    for i,file in enumerate(data_file_names):\n",
    "        df = pd.read_csv(file)\n",
    "        data_dict[acts[i]][name] = df"
   ]
  },
  {
   "cell_type": "code",
   "execution_count": 4,
   "metadata": {
    "collapsed": false,
    "scrolled": true
   },
   "outputs": [
    {
     "name": "stdout",
     "output_type": "stream",
     "text": [
      "          x         y          z           time\n",
      "0  0.493804  2.130241   8.994417  1430067490092\n",
      "1  0.135272  1.395221   7.765593  1430067490265\n",
      "2 -2.085350  2.178125   9.363723  1430067490445\n",
      "3 -2.765303  1.742979   9.216479  1430067490625\n",
      "4 -1.693299 -0.641047  10.671555  1430067490805\n"
     ]
    }
   ],
   "source": [
    "#dictionary of dictionaries where the activity is the key and the inner dictionary is each person\n",
    "print data_dict['walking']['meg'].head()"
   ]
  },
  {
   "cell_type": "code",
   "execution_count": 12,
   "metadata": {
    "collapsed": false
   },
   "outputs": [
    {
     "data": {
      "text/plain": [
       "array([ 9.62647508,  9.62804358,  9.62961206, ...,  9.75674002,\n",
       "        9.79842415,  9.84010843])"
      ]
     },
     "execution_count": 12,
     "metadata": {},
     "output_type": "execute_result"
    }
   ],
   "source": [
    "a_norm"
   ]
  },
  {
   "cell_type": "code",
   "execution_count": 9,
   "metadata": {
    "collapsed": false,
    "scrolled": false
   },
   "outputs": [
    {
     "name": "stdout",
     "output_type": "stream",
     "text": [
      "Activity: walking\n",
      "Person: meg\n",
      "Person Data: \n",
      "           x         y          z           time\n",
      "0  0.493804  2.130241   8.994417  1430067490092\n",
      "1  0.135272  1.395221   7.765593  1430067490265\n",
      "2 -2.085350  2.178125   9.363723  1430067490445\n",
      "3 -2.765303  1.742979   9.216479  1430067490625\n",
      "4 -1.693299 -0.641047  10.671555  1430067490805\n",
      "Acceleration Magnitude Vector Shape: (4265L,)\n",
      "Extracted Feature Sequence Shape: (10L, 2L)\n",
      "Person: dennis\n",
      "Person Data: \n",
      "           x         y         z           time\n",
      "0 -4.590283 -8.205527  1.548450  1430066134259\n",
      "1 -4.669292 -8.217499  2.177526  1430066134439\n",
      "2 -4.509479 -8.155848  2.326566  1430066134620\n",
      "3 -4.317344 -8.166023  2.051831  1430066134800\n",
      "4 -4.507683 -8.309077  2.343325  1430066134980\n",
      "Acceleration Magnitude Vector Shape: (3215L,)\n",
      "Extracted Feature Sequence Shape: (10L, 2L)\n",
      "Person: ryan\n",
      "Person Data: \n",
      "           x         y         z           time\n",
      "0 -4.590283 -8.205527  1.548450  1430066134259\n",
      "1 -4.669292 -8.217499  2.177526  1430066134439\n",
      "2 -4.509479 -8.155848  2.326566  1430066134620\n",
      "3 -4.317344 -8.166023  2.051831  1430066134800\n",
      "4 -4.507683 -8.309077  2.343325  1430066134980\n",
      "Acceleration Magnitude Vector Shape: (2805L,)\n",
      "Extracted Feature Sequence Shape: (10L, 2L)\n",
      "\n",
      "Activity: downstairs\n",
      "Person: meg\n",
      "Person Data: \n",
      "           x         y          z           time\n",
      "0  0.493804  2.130241   8.994417  1430067490092\n",
      "1  0.135272  1.395221   7.765593  1430067490265\n",
      "2 -2.085350  2.178125   9.363723  1430067490445\n",
      "3 -2.765303  1.742979   9.216479  1430067490625\n",
      "4 -1.693299 -0.641047  10.671555  1430067490805\n",
      "Acceleration Magnitude Vector Shape: (2010L,)\n",
      "Extracted Feature Sequence Shape: (10L, 2L)\n",
      "Person: dennis\n",
      "Person Data: \n",
      "           x         y         z           time\n",
      "0 -4.590283 -8.205527  1.548450  1430066134259\n",
      "1 -4.669292 -8.217499  2.177526  1430066134439\n",
      "2 -4.509479 -8.155848  2.326566  1430066134620\n",
      "3 -4.317344 -8.166023  2.051831  1430066134800\n",
      "4 -4.507683 -8.309077  2.343325  1430066134980\n",
      "Acceleration Magnitude Vector Shape: (3789L,)\n",
      "Extracted Feature Sequence Shape: (10L, 2L)\n",
      "Person: ryan\n",
      "Person Data: \n",
      "           x         y         z           time\n",
      "0 -4.590283 -8.205527  1.548450  1430066134259\n",
      "1 -4.669292 -8.217499  2.177526  1430066134439\n",
      "2 -4.509479 -8.155848  2.326566  1430066134620\n",
      "3 -4.317344 -8.166023  2.051831  1430066134800\n",
      "4 -4.507683 -8.309077  2.343325  1430066134980\n",
      "Acceleration Magnitude Vector Shape: (279L,)\n",
      "Extracted Feature Sequence Shape: (10L, 2L)\n",
      "\n",
      "Activity: jogging\n",
      "Person: meg\n",
      "Person Data: \n",
      "           x         y          z           time\n",
      "0  0.493804  2.130241   8.994417  1430067490092\n",
      "1  0.135272  1.395221   7.765593  1430067490265\n",
      "2 -2.085350  2.178125   9.363723  1430067490445\n",
      "3 -2.765303  1.742979   9.216479  1430067490625\n",
      "4 -1.693299 -0.641047  10.671555  1430067490805\n",
      "Acceleration Magnitude Vector Shape: (5024L,)\n",
      "Extracted Feature Sequence Shape: (10L, 2L)\n",
      "Person: dennis\n",
      "Person Data: \n",
      "           x         y          z           time\n",
      "0  0.493804  2.130241   8.994417  1430067490092\n",
      "1  0.135272  1.395221   7.765593  1430067490265\n",
      "2 -2.085350  2.178125   9.363723  1430067490445\n",
      "3 -2.765303  1.742979   9.216479  1430067490625\n",
      "4 -1.693299 -0.641047  10.671555  1430067490805\n",
      "Acceleration Magnitude Vector Shape: (370L,)\n",
      "Extracted Feature Sequence Shape: (10L, 2L)\n",
      "Person: ryan\n",
      "Person Data: \n",
      "           x         y         z           time\n",
      "0 -4.590283 -8.205527  1.548450  1430066134259\n",
      "1 -4.669292 -8.217499  2.177526  1430066134439\n",
      "2 -4.509479 -8.155848  2.326566  1430066134620\n",
      "3 -4.317344 -8.166023  2.051831  1430066134800\n",
      "4 -4.507683 -8.309077  2.343325  1430066134980\n",
      "Acceleration Magnitude Vector Shape: (904L,)\n",
      "Extracted Feature Sequence Shape: (10L, 2L)\n",
      "\n",
      "Activity: upstairs\n",
      "Person: meg\n",
      "Person Data: \n",
      "           x         y          z           time\n",
      "0  0.493804  2.130241   8.994417  1430067490092\n",
      "1  0.135272  1.395221   7.765593  1430067490265\n",
      "2 -2.085350  2.178125   9.363723  1430067490445\n",
      "3 -2.765303  1.742979   9.216479  1430067490625\n",
      "4 -1.693299 -0.641047  10.671555  1430067490805\n",
      "Acceleration Magnitude Vector Shape: (1708L,)\n",
      "Extracted Feature Sequence Shape: (10L, 2L)\n",
      "Person: dennis\n",
      "Person Data: \n",
      "           x         y         z           time\n",
      "0 -4.590283 -8.205527  1.548450  1430066134259\n",
      "1 -4.669292 -8.217499  2.177526  1430066134439\n",
      "2 -4.509479 -8.155848  2.326566  1430066134620\n",
      "3 -4.317344 -8.166023  2.051831  1430066134800\n",
      "4 -4.507683 -8.309077  2.343325  1430066134980\n",
      "Acceleration Magnitude Vector Shape: (3501L,)\n",
      "Extracted Feature Sequence Shape: (10L, 2L)\n",
      "Person: ryan\n",
      "Person Data: \n",
      "           x         y         z           time\n",
      "0  4.979939  3.637989  7.391499  1430066026687\n",
      "1  4.862025  3.767875  7.410653  1430066026869\n",
      "2  4.857237  4.074931  7.852383  1430066027049\n",
      "3  4.355053  3.873220  9.792884  1430066027230\n",
      "4  1.520917  4.042011  7.061698  1430066027409\n",
      "Acceleration Magnitude Vector Shape: (1287L,)\n",
      "Extracted Feature Sequence Shape: (10L, 2L)\n",
      "\n"
     ]
    }
   ],
   "source": [
    "feature_dict = {}\n",
    "for activity, activity_data_dict in data_dict.iteritems():\n",
    "    print \"Activity: {}\".format(activity)\n",
    "    feature_dict[activity] = {}\n",
    "    for person, person_data in activity_data_dict.iteritems():\n",
    "        print \"Person: {}\".format(person)\n",
    "        print \"Person Data: \\n {}\".format(person_data.head())\n",
    "        \n",
    "        a_norm = preprocess(person_data)\n",
    "        print \"Acceleration Magnitude Vector Shape: {}\".format(a_norm.shape)\n",
    "        \n",
    "        obs = extract_features(a_norm, n_windows=10, dom_freq_method=\"spectrum\")\n",
    "        print \"Extracted Feature Sequence Shape: {}\".format(obs.shape)\n",
    "        \n",
    "        feature_dict[activity][person] = obs\n",
    "    print"
   ]
  },
  {
   "cell_type": "code",
   "execution_count": 13,
   "metadata": {
    "collapsed": false
   },
   "outputs": [
    {
     "data": {
      "text/plain": [
       "array([[  1.66666667e-01,   8.99725954e+00],\n",
       "       [  3.33333333e-02,   2.63595196e+01],\n",
       "       [  4.66666667e-01,   6.12780879e+01],\n",
       "       [  2.00000000e-01,   5.79367855e+01],\n",
       "       [  2.00000000e-01,   7.35252300e+01],\n",
       "       [  2.00000000e-01,   7.08618795e+01],\n",
       "       [  4.66666667e-01,   5.58378545e+01],\n",
       "       [  5.00000000e-01,   4.69881384e+01],\n",
       "       [  5.00000000e-01,   5.59797097e+01],\n",
       "       [  2.33333333e-01,   6.81809998e+01]])"
      ]
     },
     "execution_count": 13,
     "metadata": {},
     "output_type": "execute_result"
    }
   ],
   "source": [
    "feature_dict['jogging']['dennis']"
   ]
  },
  {
   "cell_type": "code",
   "execution_count": 8,
   "metadata": {
    "collapsed": false
   },
   "outputs": [
    {
     "ename": "NameError",
     "evalue": "name 'amp_dist' is not defined",
     "output_type": "error",
     "traceback": [
      "\u001b[1;31m---------------------------------------------------------------------------\u001b[0m",
      "\u001b[1;31mNameError\u001b[0m                                 Traceback (most recent call last)",
      "\u001b[1;32m<ipython-input-8-8f71c6be5a13>\u001b[0m in \u001b[0;36m<module>\u001b[1;34m()\u001b[0m\n\u001b[0;32m     17\u001b[0m \u001b[1;33m\u001b[0m\u001b[0m\n\u001b[0;32m     18\u001b[0m \u001b[1;31m# Train a separate GHMM for each activity\u001b[0m\u001b[1;33m\u001b[0m\u001b[1;33m\u001b[0m\u001b[0m\n\u001b[1;32m---> 19\u001b[1;33m \u001b[1;32mfor\u001b[0m \u001b[0mactivity\u001b[0m\u001b[1;33m,\u001b[0m \u001b[0mamps\u001b[0m \u001b[1;32min\u001b[0m \u001b[0mamp_dist\u001b[0m\u001b[1;33m.\u001b[0m\u001b[0miteritems\u001b[0m\u001b[1;33m(\u001b[0m\u001b[1;33m)\u001b[0m\u001b[1;33m:\u001b[0m\u001b[1;33m\u001b[0m\u001b[0m\n\u001b[0m\u001b[0;32m     20\u001b[0m     \u001b[1;31m# Create GHMM\u001b[0m\u001b[1;33m\u001b[0m\u001b[1;33m\u001b[0m\u001b[0m\n\u001b[0;32m     21\u001b[0m     \u001b[0mghmm\u001b[0m\u001b[1;33m[\u001b[0m\u001b[0mactivity\u001b[0m\u001b[1;33m]\u001b[0m \u001b[1;33m=\u001b[0m \u001b[0mGaussianHMM\u001b[0m\u001b[1;33m(\u001b[0m\u001b[0mn_components\u001b[0m\u001b[1;33m,\u001b[0m \u001b[0mcovariance_type\u001b[0m\u001b[1;33m=\u001b[0m\u001b[1;34m\"diag\"\u001b[0m\u001b[1;33m,\u001b[0m \u001b[0mn_iter\u001b[0m\u001b[1;33m=\u001b[0m\u001b[1;36m1000\u001b[0m\u001b[1;33m)\u001b[0m\u001b[1;33m\u001b[0m\u001b[0m\n",
      "\u001b[1;31mNameError\u001b[0m: name 'amp_dist' is not defined"
     ]
    }
   ],
   "source": [
    "from hmmlearn.hmm import GaussianHMM\n",
    "\n",
    "# dict of gaussian hidden markov models for each activity\n",
    "ghmm = {}\n",
    "\n",
    "# dict of train data for each activity\n",
    "X_train = {}\n",
    "\n",
    "# dict of test data for each activity\n",
    "X_test = {}\n",
    "\n",
    "# number of hidden states\n",
    "n_components = 3\n",
    "\n",
    "# number of samples in the training set\n",
    "train_size = 60\n",
    "\n",
    "# Train a separate GHMM for each activity\n",
    "for activity, amps in amp_dist.iteritems():\n",
    "    # Create GHMM\n",
    "    ghmm[activity] = GaussianHMM(n_components, covariance_type=\"diag\", n_iter=1000)\n",
    "    \n",
    "    # Split into Train and Test Data (No Random Shuffling Now)\n",
    "    # If we wanted to add more features:\n",
    "    # X_train[activity] = np.column_stack([amp_dist[activity][:train_size], next_feature[activity][:train_size])\n",
    "    \n",
    "    features = (amp_dist, domfreq_dist2)\n",
    "\n",
    "    X_train[activity] = np.column_stack([feature[activity][:train_size] for feature in features])\n",
    "    X_test[activity] = np.column_stack([feature[activity][train_size:] for feature in features])\n",
    "    \n",
    "    # Fit on Training Data\n",
    "    # Confused about .fit([X])\n",
    "    ghmm[activity].fit([X_train[activity]])\n",
    "\n",
    "# For each Test Set\n",
    "for activity, X in X_test.iteritems():\n",
    "    print \"actual activity: \" + activity\n",
    "    \n",
    "    # logprobs for each activity_model\n",
    "    # the log-likelihood that the given sequence of observations looks like things this model could produce\n",
    "    logprobs = {}\n",
    "\n",
    "    # Try Out the 4 models\n",
    "    for model_activity, model in ghmm.iteritems():\n",
    "        # model.score returns log likelihood of the observation\n",
    "        logprobs[model_activity] = model.score(X)\n",
    "    \n",
    "\n",
    "    # Which ever has the highest probability will be the model\n",
    "    max_idx = np.argmax(np.array([logprobs[activity] for activity in activities]))\n",
    "    print max_idx\n",
    "    pred_activity = activities[max_idx]\n",
    "    print \"predicted activity: \" + pred_activity\n",
    "    \n",
    "    print \"logprobs: \"\n",
    "    print logprobs\n",
    "    \n",
    "    print \"\\n\"\n"
   ]
  }
 ],
 "metadata": {
  "kernelspec": {
   "display_name": "Python 2",
   "language": "python",
   "name": "python2"
  },
  "language_info": {
   "codemirror_mode": {
    "name": "ipython",
    "version": 2
   },
   "file_extension": ".py",
   "mimetype": "text/x-python",
   "name": "python",
   "nbconvert_exporter": "python",
   "pygments_lexer": "ipython2",
   "version": "2.7.8"
  }
 },
 "nbformat": 4,
 "nbformat_minor": 0
}
